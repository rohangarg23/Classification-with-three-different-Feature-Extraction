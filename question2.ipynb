{
 "cells": [
  {
   "cell_type": "code",
   "execution_count": 25,
   "metadata": {},
   "outputs": [
    {
     "name": "stdout",
     "output_type": "stream",
     "text": [
      "0.9427402862985685\n"
     ]
    },
    {
     "name": "stderr",
     "output_type": "stream",
     "text": [
      "/home/rohangarg/.local/lib/python3.8/site-packages/sklearn/linear_model/_logistic.py:460: ConvergenceWarning: lbfgs failed to converge (status=1):\n",
      "STOP: TOTAL NO. of ITERATIONS REACHED LIMIT.\n",
      "\n",
      "Increase the number of iterations (max_iter) or scale the data as shown in:\n",
      "    https://scikit-learn.org/stable/modules/preprocessing.html\n",
      "Please also refer to the documentation for alternative solver options:\n",
      "    https://scikit-learn.org/stable/modules/linear_model.html#logistic-regression\n",
      "  n_iter_i = _check_optimize_result(\n"
     ]
    }
   ],
   "source": [
    "import numpy as np\n",
    "import sklearn\n",
    "import sklearn.svm as svm\n",
    "from sklearn.metrics import accuracy_score\n",
    "from sklearn import linear_model \n",
    "from sklearn.model_selection import train_test_split\n",
    "import torch \n",
    "\n",
    "train_feat = np.load(\"datasets/train/train_feature.npz\", allow_pickle=True)\n",
    "train_feat_X = train_feat['features']\n",
    "train_feat_Y = train_feat['label']\n",
    "valid_feat = np.load(\"datasets/valid/valid_feature.npz\", allow_pickle=True)\n",
    "valid_feat_X = valid_feat['features']\n",
    "valid_feat_Y = valid_feat['label']\n",
    "# train_feat_X_tensor = torch.tensor(train_feat_X)\n",
    "train_feat_X_flattened  = train_feat_X.reshape(7080,13*768)\n",
    "valid_feat_X_flattened = valid_feat_X.reshape(len(valid_feat_X), 13*768)\n",
    "X_train = train_feat_X_flattened\n",
    "y_train = train_feat_Y\n",
    "X_train,X_test, y_train,y_test = train_test_split(train_feat_X_flattened,train_feat_Y,test_size=0.8)\n",
    "X_test  = valid_feat_X_flattened\n",
    "y_test = valid_feat_Y\n",
    "#To run linear SVM model uncomment the below line and comment the next line\n",
    "# model = svm.SVC(kernel='linear')\n",
    "model = linear_model.LogisticRegression()\n",
    "model.fit(X_train,y_train)\n",
    "# print(train_feat_X_flattened.shape)\n",
    "prediction = model.predict(X_test)\n",
    "acc=accuracy_score(y_pred=prediction,y_true=y_test)\n",
    "print(acc)\n"
   ]
  },
  {
   "cell_type": "code",
   "execution_count": null,
   "metadata": {},
   "outputs": [],
   "source": []
  },
  {
   "cell_type": "code",
   "execution_count": null,
   "metadata": {},
   "outputs": [],
   "source": []
  }
 ],
 "metadata": {
  "kernelspec": {
   "display_name": "Python 3",
   "language": "python",
   "name": "python3"
  },
  "language_info": {
   "codemirror_mode": {
    "name": "ipython",
    "version": 3
   },
   "file_extension": ".py",
   "mimetype": "text/x-python",
   "name": "python",
   "nbconvert_exporter": "python",
   "pygments_lexer": "ipython3",
   "version": "3.8.10"
  }
 },
 "nbformat": 4,
 "nbformat_minor": 2
}
